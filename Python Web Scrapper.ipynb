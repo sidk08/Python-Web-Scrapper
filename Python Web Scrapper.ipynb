{
 "cells": [
  {
   "cell_type": "markdown",
   "metadata": {},
   "source": [
    "# Python Web Scrapper"
   ]
  },
  {
   "cell_type": "markdown",
   "metadata": {},
   "source": [
    "##### Srapping a http URL for external links in the page and verifying the link existance. \n",
    "##### Used Beautiful Soup for scanning the response data after hitting the specified URL.\n",
    "##### Response data is parsed with Beautiful Soup and all rhe achor tags are fetched from the response html.\n",
    "##### Only the links that point to external pages are filtered and are hit to check for validity.\n",
    "##### The valid links are along with the date/time of check and response status are stored in a Pandas data frame.\n",
    "##### The data frame in then exported to excel file."
   ]
  },
  {
   "cell_type": "code",
   "execution_count": 1,
   "metadata": {
    "collapsed": true
   },
   "outputs": [],
   "source": [
    "from __future__ import print_function\n",
    "import urllib3 \n",
    "import unicodedata\n",
    "from bs4 import BeautifulSoup, SoupStrainer, Comment\n",
    "import warnings\n",
    "import datetime\n",
    "from pandas import DataFrame\n",
    "import datetime\n",
    "warnings.filterwarnings('ignore')"
   ]
  },
  {
   "cell_type": "code",
   "execution_count": 2,
   "metadata": {
    "collapsed": true
   },
   "outputs": [],
   "source": [
    "url=\"https://en.wikipedia.org/wiki/Wikipedia:External_links\"         #External URL to be linked\n",
    "http = urllib3.PoolManager()\n",
    "response = http.request('GET',url)          #Send http request and get data"
   ]
  },
  {
   "cell_type": "code",
   "execution_count": 3,
   "metadata": {
    "collapsed": true
   },
   "outputs": [],
   "source": [
    "soup=BeautifulSoup(response.data, \"lxml\")             #pass response data to Beautifulsoup"
   ]
  },
  {
   "cell_type": "code",
   "execution_count": 4,
   "metadata": {
    "collapsed": true
   },
   "outputs": [],
   "source": [
    "links=soup.find_all('a')      # get all data within <a> tag in the page"
   ]
  },
  {
   "cell_type": "code",
   "execution_count": 5,
   "metadata": {
    "collapsed": true
   },
   "outputs": [],
   "source": [
    "link = []                               # lists to store values from page\n",
    "link_text = []\n",
    "link_resp = []\n",
    "link_check_time = []\n",
    "\n",
    "for ext_link in links:\n",
    "    strng_link=str(ext_link.get(\"href\"))     # get only the links in the <a> tag\n",
    "\n",
    "    if (not(strng_link.find(\"https\"))):             #filter external links\n",
    "        response = http.request('GET',strng_link)\n",
    "        link.append(strng_link)                      #store data\n",
    "        link_text.append(str(ext_link.get_text()))\n",
    "        link_check_time.append(str(datetime.datetime.now()))\n",
    "        if(response.status == 200):      \n",
    "            link_resp.append(True)\n",
    "        else:\n",
    "            link_resp.append(False)\n",
    "df = DataFrame({'Link': link, 'Text': link_text, 'Response': link_resp, 'Date/Time': link_check_time})\n",
    "df\n",
    "\n",
    "df.to_excel('Link_response.xlsx', sheet_name='sheet1', index=True)     # convert to excel"
   ]
  },
  {
   "cell_type": "code",
   "execution_count": null,
   "metadata": {
    "collapsed": true
   },
   "outputs": [],
   "source": []
  }
 ],
 "metadata": {
  "kernelspec": {
   "display_name": "Python 3",
   "language": "python",
   "name": "python3"
  },
  "language_info": {
   "codemirror_mode": {
    "name": "ipython",
    "version": 3
   },
   "file_extension": ".py",
   "mimetype": "text/x-python",
   "name": "python",
   "nbconvert_exporter": "python",
   "pygments_lexer": "ipython3",
   "version": "3.6.3"
  }
 },
 "nbformat": 4,
 "nbformat_minor": 2
}
